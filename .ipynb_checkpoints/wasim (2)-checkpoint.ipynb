{
 "cells": [
  {
   "cell_type": "code",
   "execution_count": 1,
   "id": "13b315bb",
   "metadata": {},
   "outputs": [],
   "source": [
    "from flask import Flask, render_template, request\n",
    "import cv2\n",
    "import numpy as np\n",
    "from keras.models import model_from_json"
   ]
  },
  {
   "cell_type": "code",
   "execution_count": null,
   "id": "3b231a48",
   "metadata": {},
   "outputs": [
    {
     "name": "stdout",
     "output_type": "stream",
     "text": [
      " * Serving Flask app \"__main__\" (lazy loading)\n",
      " * Environment: production\n",
      "\u001b[31m   WARNING: This is a development server. Do not use it in a production deployment.\u001b[0m\n",
      "\u001b[2m   Use a production WSGI server instead.\u001b[0m\n",
      " * Debug mode: off\n"
     ]
    },
    {
     "name": "stderr",
     "output_type": "stream",
     "text": [
      " * Running on http://127.0.0.1:5000/ (Press CTRL+C to quit)\n",
      "127.0.0.1 - - [20/Jul/2022 14:32:52] \"GET / HTTP/1.1\" 200 -\n"
     ]
    },
    {
     "name": "stdout",
     "output_type": "stream",
     "text": [
      "aa\n"
     ]
    },
    {
     "name": "stderr",
     "output_type": "stream",
     "text": [
      "127.0.0.1 - - [20/Jul/2022 14:32:52] \"GET /favicon.ico HTTP/1.1\" 404 -\n"
     ]
    }
   ],
   "source": [
    "app = Flask(__name__,template_folder='template')\n",
    "@app.route('/')\n",
    "def index():\n",
    "    print(\"aa\")\n",
    "    return render_template('index.html')\n",
    "@app.route('/getting', methods=['POST'])\n",
    "def getting():\n",
    "    print('ddf')\n",
    "    filename = request.form['filename']\n",
    "    print(filename)\n",
    "    #filename = filedialog.askopenfilename(initialdir = \"/\",title = \"Select a File\",filetypes = ((\"Video files\",\"*.mp4*\"),(\"all files\",\"*.*\")))\n",
    "    emotion_dict = {0: \"Angry\", 1: \"Disgusted\", 2: \"Fearful\", 3: \"Happy\", 4: \"Neutral\", 5: \"Sad\", 6: \"Surprised\"}\n",
    "# load json and create model\n",
    "    json_file = open('model/emotion_model.json', 'r')\n",
    "    loaded_model_json = json_file.read()\n",
    "    json_file.close()\n",
    "    emotion_model = model_from_json(loaded_model_json)\n",
    "\n",
    "# load weights into new model\n",
    "    emotion_model.load_weights(\"model/emotion_model.h5\")\n",
    "    print(\"Loaded model from disk\")\n",
    "#ws.mainloop()\n",
    "#func.mainloop()\n",
    "    cap = cv2.VideoCapture(filename)\n",
    "    ne=0\n",
    "    dis=0\n",
    "    hap=0\n",
    "    ang=0\n",
    "    fe=0\n",
    "    s=0\n",
    "    sur=0\n",
    "    while True:\n",
    "        if cv2.waitKey(1) & 0xFF == ord('q'):\n",
    "            break\n",
    "    # Find haar cascade to draw bounding box around face\n",
    "        ret, frame = cap.read()\n",
    "        if(type(frame) == type(None)):\n",
    "            print('e')\n",
    "            break\n",
    "        if not ret:\n",
    "            break\n",
    "        frame = cv2.resize(frame, (1280, 720))\n",
    "    \n",
    " \n",
    "        face_detector = cv2.CascadeClassifier('haarcascades/haarcascade_frontalface_default.xml')\n",
    "       # print(face_detector)\n",
    "        gray_frame = cv2.cvtColor(frame, cv2.COLOR_BGR2GRAY)\n",
    "\n",
    "    # detect faces available on camera\n",
    "        num_faces = face_detector.detectMultiScale(gray_frame, scaleFactor=1.3, minNeighbors=5)\n",
    "\n",
    "    # take each face available on the camera and Preprocess it\n",
    "        for (x, y, w, h) in num_faces:\n",
    "            print(\"H\")\n",
    "            cv2.rectangle(frame, (x, y-50), (x+w, y+h+10), (0, 255, 0), 4)\n",
    "            roi_gray_frame = gray_frame[y:y + h, x:x + w]\n",
    "            cropped_img = np.expand_dims(np.expand_dims(cv2.resize(roi_gray_frame, (48, 48)), -1), 0)\n",
    "\n",
    "        # predict the emotions\n",
    "            emotion_prediction = emotion_model.predict(cropped_img)\n",
    "        \n",
    "            maxindex = int(np.argmax(emotion_prediction))\n",
    "            if(emotion_dict[maxindex]==\"Neutral\"):\n",
    "                ne+=1\n",
    "            elif(emotion_dict[maxindex]==\"Disgusted\"):\n",
    "                dis+=1\n",
    "            elif(emotion_dict[maxindex]==\"Angry\"):\n",
    "                ang+=1\n",
    "            elif(emotion_dict[maxindex]==\"Fearful\"):\n",
    "                fe+=1\n",
    "            elif(emotion_dict[maxindex]==\"Happy\"):\n",
    "                hap+=1\n",
    "            elif(emotion_dict[maxindex]==\"Sad\"):\n",
    "                s+=1\n",
    "            elif(emotion_dict[maxindex]==\"Surprised\"):\n",
    "                sur+=1\n",
    "            cv2.putText(frame, emotion_dict[maxindex], (x+5, y-20), cv2.FONT_HERSHEY_SIMPLEX, 1, (255, 0, 0), 2, cv2.LINE_AA)\n",
    "\n",
    "        cv2.imshow('Emotion Detection', frame)\n",
    "        if cv2.waitKey(1) & 0xFF == ord('q'):\n",
    "            break\n",
    "    print(ne,fe,ang,sur,s,hap,dis)\n",
    "    total=ne+fe+ang+sur+s+hap+dis\n",
    "    ne=round((ne/total)*100,2)\n",
    "    fe=round((fe/total)*100,2)\n",
    "    ang=round((ang/total)*100,2)\n",
    "    sur=round((sur/total)*100,2)\n",
    "    s=round((s/total)*100,2)\n",
    "    hap=round((hap/total)*100,2)\n",
    "    dis=round((dis/total)*100,2)\n",
    "\n",
    "    cap.release()\n",
    "    cv2.destroyAllWindows()\n",
    "    print(ne,fe,ang,sur,s,hap,dis)\n",
    "    answer=\"\"+str(ne)+\" \"+str(fe)+\" \"+str(ang)+\" \"+str(sur)+\" \"+str(s)+\" \"+str(hap)+\" \"+str(dis)+\" \"\n",
    "\n",
    "    return render_template('output.html',a=ang,h=hap,d=dis,s=s,sur=sur,f=fe,n=ne)\n",
    "#     ws = Tk()\n",
    "#     ws.title('PythonGuides')\n",
    "#     ws.geometry('400x200') \n",
    "#     dl = Label(\n",
    "#     ws, \n",
    "#     text=answer\n",
    "#     )\n",
    "#     dl.grid(row=1, column=0, padx=10)\n",
    "    \n",
    "app.run()"
   ]
  },
  {
   "cell_type": "code",
   "execution_count": null,
   "id": "f68bf54e",
   "metadata": {},
   "outputs": [],
   "source": []
  }
 ],
 "metadata": {
  "kernelspec": {
   "display_name": "Python 3 (ipykernel)",
   "language": "python",
   "name": "python3"
  },
  "language_info": {
   "codemirror_mode": {
    "name": "ipython",
    "version": 3
   },
   "file_extension": ".py",
   "mimetype": "text/x-python",
   "name": "python",
   "nbconvert_exporter": "python",
   "pygments_lexer": "ipython3",
   "version": "3.9.7"
  }
 },
 "nbformat": 4,
 "nbformat_minor": 5
}
